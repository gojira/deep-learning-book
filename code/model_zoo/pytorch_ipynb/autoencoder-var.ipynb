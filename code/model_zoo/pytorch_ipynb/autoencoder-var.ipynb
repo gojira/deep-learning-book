{
 "cells": [
  {
   "cell_type": "markdown",
   "metadata": {},
   "source": [
    "*Accompanying code examples of the book \"Introduction to Artificial Neural Networks and Deep Learning: A Practical Guide with Applications in Python\" by [Sebastian Raschka](https://sebastianraschka.com). All code examples are released under the [MIT license](https://github.com/rasbt/deep-learning-book/blob/master/LICENSE). If you find this content useful, please consider supporting the work by buying a [copy of the book](https://leanpub.com/ann-and-deeplearning).*\n",
    "  \n",
    "Other code examples and content are available on [GitHub](https://github.com/rasbt/deep-learning-book). The PDF and ebook versions of the book are available through [Leanpub](https://leanpub.com/ann-and-deeplearning)."
   ]
  },
  {
   "cell_type": "code",
   "execution_count": 1,
   "metadata": {},
   "outputs": [
    {
     "name": "stdout",
     "output_type": "stream",
     "text": [
      "Sebastian Raschka \n",
      "\n",
      "CPython 3.6.3\n",
      "IPython 6.2.1\n",
      "\n",
      "tensorflow 1.5.0-rc1\n"
     ]
    }
   ],
   "source": [
    "%load_ext watermark\n",
    "%watermark -a 'Sebastian Raschka' -v -p tensorflow"
   ]
  },
  {
   "cell_type": "markdown",
   "metadata": {},
   "source": [
    "# Model Zoo -- Variational Autoencoder"
   ]
  },
  {
   "cell_type": "markdown",
   "metadata": {},
   "source": [
    "A simple variational autoencoder that compresses 768-pixel MNIST images down to a 15-pixel latent vector representation."
   ]
  },
  {
   "cell_type": "code",
   "execution_count": 2,
   "metadata": {},
   "outputs": [
    {
     "name": "stdout",
     "output_type": "stream",
     "text": [
      "Image batch dimensions: torch.Size([128, 1, 28, 28])\n",
      "Image label dimensions: torch.Size([128])\n"
     ]
    }
   ],
   "source": [
    "from torchvision import datasets\n",
    "from torchvision import transforms\n",
    "from torch.utils.data import DataLoader\n",
    "import torch.nn.functional as F\n",
    "import torch\n",
    "import numpy as np\n",
    "\n",
    "\n",
    "##########################\n",
    "### SETTINGS\n",
    "##########################\n",
    "\n",
    "# Hyperparameters\n",
    "learning_rate = 0.001\n",
    "num_epochs = 5\n",
    "batch_size = 128\n",
    "\n",
    "# Architecture\n",
    "num_features = 784\n",
    "num_hidden_1 = 500\n",
    "num_latent = 15\n",
    "\n",
    "# Other\n",
    "random_seed = 123\n",
    "\n",
    "\n",
    "##########################\n",
    "### MNIST DATASET\n",
    "##########################\n",
    "\n",
    "# Note transforms.ToTensor() scales input images\n",
    "# to 0-1 range\n",
    "train_dataset = datasets.MNIST(root='data', \n",
    "                               train=True, \n",
    "                               transform=transforms.ToTensor(),\n",
    "                               download=True)\n",
    "\n",
    "test_dataset = datasets.MNIST(root='data', \n",
    "                              train=False, \n",
    "                              transform=transforms.ToTensor())\n",
    "\n",
    "\n",
    "train_loader = DataLoader(dataset=train_dataset, \n",
    "                          batch_size=batch_size, \n",
    "                          shuffle=True)\n",
    "\n",
    "test_loader = DataLoader(dataset=test_dataset, \n",
    "                         batch_size=batch_size, \n",
    "                         shuffle=False)\n",
    "\n",
    "# Checking the dataset\n",
    "for images, labels in train_loader:  \n",
    "    print('Image batch dimensions:', images.shape)\n",
    "    print('Image label dimensions:', labels.shape)\n",
    "    break"
   ]
  },
  {
   "cell_type": "code",
   "execution_count": 3,
   "metadata": {},
   "outputs": [],
   "source": [
    "##########################\n",
    "### MODEL\n",
    "##########################\n",
    "\n",
    "class VariationalAutoencoder(torch.nn.Module):\n",
    "\n",
    "    def __init__(self, num_features, num_hidden_1, num_latent):\n",
    "        super(VariationalAutoencoder, self).__init__()\n",
    "        \n",
    "        ### ENCODER\n",
    "        self.hidden_1 = torch.nn.Linear(num_features, num_hidden_1)\n",
    "        self.z_mean = torch.nn.Linear(num_hidden_1, num_latent)\n",
    "        self.z_log_var = torch.nn.Linear(num_hidden_1, num_latent)\n",
    "        \n",
    "        \n",
    "        ### DECODER\n",
    "        self.linear_3 = torch.nn.Linear(num_latent, num_hidden_1)\n",
    "        self.linear_4 = torch.nn.Linear(num_hidden_1, num_features)\n",
    "\n",
    "    def reparameterize(self, z_mu, z_log_var):\n",
    "        # Sample epsilon from standard normal distribution\n",
    "        eps = Variable(torch.randn(z_mu.size(0), z_mu.size(1)))\n",
    "        if torch.cuda.is_available():\n",
    "            eps = eps.cuda()\n",
    "        # note that log(x^2) = 2*log(x); hence divide by 2 to get std_dev\n",
    "        z = z_mu + eps * torch.exp(z_log_var/2.) \n",
    "        return z\n",
    "        \n",
    "\n",
    "    def forward(self, x):\n",
    "        \n",
    "        ### ENCODER\n",
    "        x = self.hidden_1(x)\n",
    "        x = F.relu(x)\n",
    "        z_mean = self.z_mean(x)\n",
    "        z_log_var = self.z_log_var(x)\n",
    "        encoded = self.reparameterize(z_mean, z_log_var)\n",
    "        \n",
    "        ### DECODER\n",
    "        x = self.linear_3(encoded)\n",
    "        x = F.relu(x)\n",
    "        x = self.linear_4(x)\n",
    "        decoded = F.sigmoid(x)\n",
    "        \n",
    "        return z_mean, z_log_var, encoded, decoded\n",
    "\n",
    "    \n",
    "torch.manual_seed(random_seed)\n",
    "model = VariationalAutoencoder(num_features,\n",
    "                               num_hidden_1,\n",
    "                               num_latent)\n",
    "\n",
    "if torch.cuda.is_available():\n",
    "    model.cuda()\n",
    "    \n",
    "\n",
    "##########################\n",
    "### OPTIMIZER\n",
    "##########################\n",
    "\n",
    "optimizer = torch.optim.Adam(model.parameters(), lr=learning_rate)  "
   ]
  },
  {
   "cell_type": "code",
   "execution_count": 4,
   "metadata": {},
   "outputs": [
    {
     "name": "stdout",
     "output_type": "stream",
     "text": [
      "Epoch: 001/005 | Batch 000/468 | Cost: 70748.6953\n",
      "Epoch: 001/005 | Batch 050/468 | Cost: 26732.1621\n",
      "Epoch: 001/005 | Batch 100/468 | Cost: 22865.2344\n",
      "Epoch: 001/005 | Batch 150/468 | Cost: 19863.1191\n",
      "Epoch: 001/005 | Batch 200/468 | Cost: 18620.8711\n",
      "Epoch: 001/005 | Batch 250/468 | Cost: 18250.3711\n",
      "Epoch: 001/005 | Batch 300/468 | Cost: 17671.5430\n",
      "Epoch: 001/005 | Batch 350/468 | Cost: 17261.4609\n",
      "Epoch: 001/005 | Batch 400/468 | Cost: 16143.1797\n",
      "Epoch: 001/005 | Batch 450/468 | Cost: 16535.2949\n",
      "Epoch: 002/005 | Batch 000/468 | Cost: 16764.4141\n",
      "Epoch: 002/005 | Batch 050/468 | Cost: 16020.5488\n",
      "Epoch: 002/005 | Batch 100/468 | Cost: 15690.1328\n",
      "Epoch: 002/005 | Batch 150/468 | Cost: 15582.7705\n",
      "Epoch: 002/005 | Batch 200/468 | Cost: 15373.2930\n",
      "Epoch: 002/005 | Batch 250/468 | Cost: 15751.5801\n",
      "Epoch: 002/005 | Batch 300/468 | Cost: 14769.6758\n",
      "Epoch: 002/005 | Batch 350/468 | Cost: 14839.7520\n",
      "Epoch: 002/005 | Batch 400/468 | Cost: 15436.8223\n",
      "Epoch: 002/005 | Batch 450/468 | Cost: 14918.2920\n",
      "Epoch: 003/005 | Batch 000/468 | Cost: 15304.9873\n",
      "Epoch: 003/005 | Batch 050/468 | Cost: 14720.2910\n",
      "Epoch: 003/005 | Batch 100/468 | Cost: 14827.0508\n",
      "Epoch: 003/005 | Batch 150/468 | Cost: 14779.8926\n",
      "Epoch: 003/005 | Batch 200/468 | Cost: 15042.4961\n",
      "Epoch: 003/005 | Batch 250/468 | Cost: 14356.1602\n",
      "Epoch: 003/005 | Batch 300/468 | Cost: 14723.5605\n",
      "Epoch: 003/005 | Batch 350/468 | Cost: 14558.4150\n",
      "Epoch: 003/005 | Batch 400/468 | Cost: 14723.4766\n",
      "Epoch: 003/005 | Batch 450/468 | Cost: 14537.1602\n",
      "Epoch: 004/005 | Batch 000/468 | Cost: 14700.6162\n",
      "Epoch: 004/005 | Batch 050/468 | Cost: 14575.1035\n",
      "Epoch: 004/005 | Batch 100/468 | Cost: 14726.4219\n",
      "Epoch: 004/005 | Batch 150/468 | Cost: 13966.4219\n",
      "Epoch: 004/005 | Batch 200/468 | Cost: 14754.7959\n",
      "Epoch: 004/005 | Batch 250/468 | Cost: 13416.4326\n",
      "Epoch: 004/005 | Batch 300/468 | Cost: 13925.0996\n",
      "Epoch: 004/005 | Batch 350/468 | Cost: 13959.9980\n",
      "Epoch: 004/005 | Batch 400/468 | Cost: 14955.3838\n",
      "Epoch: 004/005 | Batch 450/468 | Cost: 14513.5459\n",
      "Epoch: 005/005 | Batch 000/468 | Cost: 14448.1250\n",
      "Epoch: 005/005 | Batch 050/468 | Cost: 14270.3545\n",
      "Epoch: 005/005 | Batch 100/468 | Cost: 13844.2061\n",
      "Epoch: 005/005 | Batch 150/468 | Cost: 13783.1738\n",
      "Epoch: 005/005 | Batch 200/468 | Cost: 13714.0342\n",
      "Epoch: 005/005 | Batch 250/468 | Cost: 14280.3574\n",
      "Epoch: 005/005 | Batch 300/468 | Cost: 14538.0410\n",
      "Epoch: 005/005 | Batch 350/468 | Cost: 13722.2793\n",
      "Epoch: 005/005 | Batch 400/468 | Cost: 14091.6816\n",
      "Epoch: 005/005 | Batch 450/468 | Cost: 13003.2393\n"
     ]
    }
   ],
   "source": [
    "from torch.autograd import Variable\n",
    "   \n",
    "\n",
    "for epoch in range(num_epochs):\n",
    "    for batch_idx, (features, targets) in enumerate(train_loader):\n",
    "        \n",
    "        # don't need labels, only the images (features)\n",
    "        features = Variable(features.view(-1, 28*28))\n",
    "\n",
    "        if torch.cuda.is_available():\n",
    "            features, targets = features.cuda(), targets.cuda()\n",
    "            \n",
    "        ### FORWARD AND BACK PROP\n",
    "        z_mean, z_log_var, encoded, decoded = model(features)\n",
    "        \n",
    "        kl_divergence = (0.5 * (z_mean**2 + \n",
    "                                torch.exp(z_log_var) - z_log_var - 1)).sum()\n",
    "        pixelwise_bce = F.binary_cross_entropy(decoded, features, size_average=False)\n",
    "        \n",
    "        cost = kl_divergence + pixelwise_bce\n",
    "        optimizer.zero_grad()\n",
    "        \n",
    "        cost.backward()\n",
    "        \n",
    "        ### UPDATE MODEL PARAMETERS\n",
    "        optimizer.step()\n",
    "        \n",
    "        ### LOGGING\n",
    "        if not batch_idx % 50:\n",
    "            print ('Epoch: %03d/%03d | Batch %03d/%03d | Cost: %.4f' \n",
    "                   %(epoch+1, num_epochs, batch_idx, \n",
    "                     len(train_dataset)//batch_size, cost.data[0]))"
   ]
  },
  {
   "cell_type": "code",
   "execution_count": 5,
   "metadata": {},
   "outputs": [
    {
     "data": {
      "image/png": "[encoded data removed]",
      "text/plain": [
       "<matplotlib.figure.Figure at 0x1817b7e208>"
      ]
     },
     "metadata": {},
     "output_type": "display_data"
    }
   ],
   "source": [
    "%matplotlib inline\n",
    "import matplotlib.pyplot as plt\n",
    "\n",
    "##########################\n",
    "### VISUALIZATION\n",
    "##########################\n",
    "\n",
    "n_images = 15\n",
    "image_width = 28\n",
    "\n",
    "fig, axes = plt.subplots(nrows=2, ncols=n_images, \n",
    "                         sharex=True, sharey=True, figsize=(20, 2.5))\n",
    "orig_images = features.data.numpy()[:n_images]\n",
    "decoded_images = decoded.data.numpy()[:n_images]\n",
    "\n",
    "for i in range(n_images):\n",
    "    for ax, img in zip(axes, [orig_images, decoded_images]):\n",
    "        ax[i].imshow(img[i].reshape((image_width, image_width)), cmap='binary')"
   ]
  }
 ],
 "metadata": {
  "kernelspec": {
   "display_name": "Python 3",
   "language": "python",
   "name": "python3"
  },
  "language_info": {
   "codemirror_mode": {
    "name": "ipython",
    "version": 3
   },
   "file_extension": ".py",
   "mimetype": "text/x-python",
   "name": "python",
   "nbconvert_exporter": "python",
   "pygments_lexer": "ipython3",
   "version": "3.6.3"
  }
 },
 "nbformat": 4,
 "nbformat_minor": 2
}
