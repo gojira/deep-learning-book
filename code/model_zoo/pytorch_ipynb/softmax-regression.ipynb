{
 "cells": [
  {
   "cell_type": "markdown",
   "metadata": {},
   "source": [
    "*Accompanying code examples of the book \"Introduction to Artificial Neural Networks and Deep Learning: A Practical Guide with Applications in Python\" by [Sebastian Raschka](https://sebastianraschka.com). All code examples are released under the [MIT license](https://github.com/rasbt/deep-learning-book/blob/master/LICENSE). If you find this content useful, please consider supporting the work by buying a [copy of the book](https://leanpub.com/ann-and-deeplearning).*\n",
    "  \n",
    "Other code examples and content are available on [GitHub](https://github.com/rasbt/deep-learning-book). The PDF and ebook versions of the book are available through [Leanpub](https://leanpub.com/ann-and-deeplearning)."
   ]
  },
  {
   "cell_type": "code",
   "execution_count": 1,
   "metadata": {},
   "outputs": [
    {
     "name": "stdout",
     "output_type": "stream",
     "text": [
      "Sebastian Raschka \n",
      "\n",
      "CPython 3.6.3\n",
      "IPython 6.2.1\n",
      "\n",
      "torch 0.3.0.post4\n"
     ]
    }
   ],
   "source": [
    "%load_ext watermark\n",
    "%watermark -a 'Sebastian Raschka' -v -p torch"
   ]
  },
  {
   "cell_type": "markdown",
   "metadata": {},
   "source": [
    "# Model Zoo -- Softmax Regression"
   ]
  },
  {
   "cell_type": "markdown",
   "metadata": {},
   "source": [
    "Implementation of softmax regression (multinomial logistic regression)."
   ]
  },
  {
   "cell_type": "code",
   "execution_count": 1,
   "metadata": {},
   "outputs": [
    {
     "name": "stdout",
     "output_type": "stream",
     "text": [
      "Image batch dimensions: torch.Size([256, 1, 28, 28])\n",
      "Image label dimensions: torch.Size([256])\n"
     ]
    }
   ],
   "source": [
    "from torchvision import datasets\n",
    "from torchvision import transforms\n",
    "from torch.utils.data import DataLoader\n",
    "import torch\n",
    "\n",
    "\n",
    "##########################\n",
    "### SETTINGS\n",
    "##########################\n",
    "\n",
    "# Hyperparameters\n",
    "learning_rate = 0.001\n",
    "num_epochs = 10\n",
    "batch_size = 256\n",
    "\n",
    "# Architecture\n",
    "num_features = 784\n",
    "num_classes = 10\n",
    "\n",
    "\n",
    "##########################\n",
    "### MNIST DATASET\n",
    "##########################\n",
    "\n",
    "train_dataset = datasets.MNIST(root='data', \n",
    "                               train=True, \n",
    "                               transform=transforms.ToTensor(),  \n",
    "                               download=True)\n",
    "\n",
    "test_dataset = datasets.MNIST(root='data', \n",
    "                              train=False, \n",
    "                              transform=transforms.ToTensor())\n",
    "\n",
    "\n",
    "train_loader = DataLoader(dataset=train_dataset, \n",
    "                          batch_size=batch_size, \n",
    "                          shuffle=True)\n",
    "\n",
    "test_loader = DataLoader(dataset=test_dataset, \n",
    "                         batch_size=batch_size, \n",
    "                         shuffle=False)\n",
    "\n",
    "\n",
    "# Checking the dataset\n",
    "for images, labels in train_loader:  \n",
    "    print('Image batch dimensions:', images.shape)\n",
    "    print('Image label dimensions:', labels.shape)\n",
    "    break"
   ]
  },
  {
   "cell_type": "code",
   "execution_count": 2,
   "metadata": {},
   "outputs": [],
   "source": [
    "##########################\n",
    "### MODEL\n",
    "##########################\n",
    "\n",
    "class SoftmaxRegression(torch.nn.Module):\n",
    "\n",
    "    def __init__(self, num_features, num_classes):\n",
    "        super(SoftmaxRegression, self).__init__()\n",
    "        self.linear = torch.nn.Linear(num_features, num_classes)\n",
    "        self.linear.weight.data.zero_()\n",
    "        self.linear.bias.data.zero_()\n",
    "        \n",
    "    def forward(self, x):\n",
    "        logits = self.linear(x)\n",
    "        probas = F.softmax(logits, dim=1)\n",
    "        return logits, probas\n",
    "\n",
    "model = SoftmaxRegression(num_features=num_features,\n",
    "                          num_classes=num_classes)\n",
    "\n",
    "if torch.cuda.is_available():\n",
    "    model.cuda()\n",
    "    \n",
    "    \n",
    "\n",
    "##########################\n",
    "### COST AND OPTIMIZER\n",
    "##########################\n",
    "\n",
    "# note that the PyTorch implementation of\n",
    "# CrossEntropyLoss works with logits, not\n",
    "# probabilities\n",
    "cost_fn = torch.nn.CrossEntropyLoss()  \n",
    "\n",
    "optimizer = torch.optim.SGD(model.parameters(), lr=learning_rate)  "
   ]
  },
  {
   "cell_type": "code",
   "execution_count": 4,
   "metadata": {},
   "outputs": [
    {
     "name": "stdout",
     "output_type": "stream",
     "text": [
      "Epoch: 001/010 | Batch 000/234 | Cost: 2.3026\n",
      "Epoch: 001/010 | Batch 050/234 | Cost: 0.5400\n",
      "Epoch: 001/010 | Batch 100/234 | Cost: 0.3796\n",
      "Epoch: 001/010 | Batch 150/234 | Cost: 0.4273\n",
      "Epoch: 001/010 | Batch 200/234 | Cost: 0.3295\n",
      "Epoch: 001/010 training accuracy: 89.91%\n",
      "Epoch: 002/010 | Batch 000/234 | Cost: 0.4648\n",
      "Epoch: 002/010 | Batch 050/234 | Cost: 0.3611\n",
      "Epoch: 002/010 | Batch 100/234 | Cost: 0.3480\n",
      "Epoch: 002/010 | Batch 150/234 | Cost: 0.3730\n",
      "Epoch: 002/010 | Batch 200/234 | Cost: 0.2631\n",
      "Epoch: 002/010 training accuracy: 90.76%\n",
      "Epoch: 003/010 | Batch 000/234 | Cost: 0.3017\n",
      "Epoch: 003/010 | Batch 050/234 | Cost: 0.4146\n",
      "Epoch: 003/010 | Batch 100/234 | Cost: 0.3101\n",
      "Epoch: 003/010 | Batch 150/234 | Cost: 0.2404\n",
      "Epoch: 003/010 | Batch 200/234 | Cost: 0.3169\n",
      "Epoch: 003/010 training accuracy: 91.43%\n",
      "Epoch: 004/010 | Batch 000/234 | Cost: 0.2980\n",
      "Epoch: 004/010 | Batch 050/234 | Cost: 0.3591\n",
      "Epoch: 004/010 | Batch 100/234 | Cost: 0.2404\n",
      "Epoch: 004/010 | Batch 150/234 | Cost: 0.2611\n",
      "Epoch: 004/010 | Batch 200/234 | Cost: 0.2715\n",
      "Epoch: 004/010 training accuracy: 91.34%\n",
      "Epoch: 005/010 | Batch 000/234 | Cost: 0.3195\n",
      "Epoch: 005/010 | Batch 050/234 | Cost: 0.3326\n",
      "Epoch: 005/010 | Batch 100/234 | Cost: 0.3042\n",
      "Epoch: 005/010 | Batch 150/234 | Cost: 0.2366\n",
      "Epoch: 005/010 | Batch 200/234 | Cost: 0.2711\n",
      "Epoch: 005/010 training accuracy: 92.09%\n",
      "Epoch: 006/010 | Batch 000/234 | Cost: 0.2776\n",
      "Epoch: 006/010 | Batch 050/234 | Cost: 0.2731\n",
      "Epoch: 006/010 | Batch 100/234 | Cost: 0.3464\n",
      "Epoch: 006/010 | Batch 150/234 | Cost: 0.2266\n",
      "Epoch: 006/010 | Batch 200/234 | Cost: 0.2558\n",
      "Epoch: 006/010 training accuracy: 92.10%\n",
      "Epoch: 007/010 | Batch 000/234 | Cost: 0.2907\n",
      "Epoch: 007/010 | Batch 050/234 | Cost: 0.2333\n",
      "Epoch: 007/010 | Batch 100/234 | Cost: 0.2955\n",
      "Epoch: 007/010 | Batch 150/234 | Cost: 0.3098\n",
      "Epoch: 007/010 | Batch 200/234 | Cost: 0.2346\n",
      "Epoch: 007/010 training accuracy: 92.29%\n",
      "Epoch: 008/010 | Batch 000/234 | Cost: 0.3334\n",
      "Epoch: 008/010 | Batch 050/234 | Cost: 0.3097\n",
      "Epoch: 008/010 | Batch 100/234 | Cost: 0.3082\n",
      "Epoch: 008/010 | Batch 150/234 | Cost: 0.3963\n",
      "Epoch: 008/010 | Batch 200/234 | Cost: 0.1935\n",
      "Epoch: 008/010 training accuracy: 92.28%\n",
      "Epoch: 009/010 | Batch 000/234 | Cost: 0.2909\n",
      "Epoch: 009/010 | Batch 050/234 | Cost: 0.2179\n",
      "Epoch: 009/010 | Batch 100/234 | Cost: 0.2089\n",
      "Epoch: 009/010 | Batch 150/234 | Cost: 0.2206\n",
      "Epoch: 009/010 | Batch 200/234 | Cost: 0.2672\n",
      "Epoch: 009/010 training accuracy: 92.19%\n",
      "Epoch: 010/010 | Batch 000/234 | Cost: 0.2641\n",
      "Epoch: 010/010 | Batch 050/234 | Cost: 0.1999\n",
      "Epoch: 010/010 | Batch 100/234 | Cost: 0.2730\n",
      "Epoch: 010/010 | Batch 150/234 | Cost: 0.2742\n",
      "Epoch: 010/010 | Batch 200/234 | Cost: 0.2691\n",
      "Epoch: 010/010 training accuracy: 92.59%\n"
     ]
    }
   ],
   "source": [
    "from torch.autograd import Variable\n",
    "import torch.nn.functional as F\n",
    "\n",
    "torch.manual_seed(0)\n",
    "\n",
    "\n",
    "def compute_accuracy(model, data_loader):\n",
    "    correct_pred, num_examples = 0, 0\n",
    "    for features, targets in data_loader:\n",
    "        features = Variable(features.view(-1, 28*28))\n",
    "        if torch.cuda.is_available():\n",
    "            features.cuda()\n",
    "        logits, probas = model(features)\n",
    "        _, predicted_labels = torch.max(probas.data, 1)\n",
    "        num_examples += targets.size(0)\n",
    "        correct_pred += (predicted_labels.cpu() == targets).sum()\n",
    "    return correct_pred/num_examples * 100\n",
    "    \n",
    "\n",
    "for epoch in range(num_epochs):\n",
    "    for batch_idx, (features, targets) in enumerate(train_loader):\n",
    "        \n",
    "        features = Variable(features.view(-1, 28*28))\n",
    "        targets = Variable(targets)\n",
    "        \n",
    "        if torch.cuda.is_available():\n",
    "            features, targets = features.cuda(), targets.cuda()\n",
    "            \n",
    "        ### FORWARD AND BACK PROP\n",
    "        logits, probas = model(features)\n",
    "        cost = cost_fn(logits, targets)\n",
    "        optimizer.zero_grad()\n",
    "        cost.backward()\n",
    "        \n",
    "        ### UPDATE MODEL PARAMETERS\n",
    "        optimizer.step()\n",
    "        \n",
    "        ### LOGGING\n",
    "        if not batch_idx % 50:\n",
    "            print ('Epoch: %03d/%03d | Batch %03d/%03d | Cost: %.4f' \n",
    "                   %(epoch+1, num_epochs, batch_idx, \n",
    "                     len(train_dataset)//batch_size, cost.data[0]))\n",
    "            \n",
    "    print('Epoch: %03d/%03d training accuracy: %.2f%%' % (\n",
    "          epoch+1, num_epochs, \n",
    "          compute_accuracy(model, train_loader)))"
   ]
  },
  {
   "cell_type": "code",
   "execution_count": 5,
   "metadata": {},
   "outputs": [
    {
     "name": "stdout",
     "output_type": "stream",
     "text": [
      "Test accuracy: 92.33%\n"
     ]
    }
   ],
   "source": [
    "print('Test accuracy: %.2f%%' % (compute_accuracy(model, test_loader)))"
   ]
  }
 ],
 "metadata": {
  "kernelspec": {
   "display_name": "Python 3",
   "language": "python",
   "name": "python3"
  },
  "language_info": {
   "codemirror_mode": {
    "name": "ipython",
    "version": 3
   },
   "file_extension": ".py",
   "mimetype": "text/x-python",
   "name": "python",
   "nbconvert_exporter": "python",
   "pygments_lexer": "ipython3",
   "version": "3.6.3"
  }
 },
 "nbformat": 4,
 "nbformat_minor": 2
}
