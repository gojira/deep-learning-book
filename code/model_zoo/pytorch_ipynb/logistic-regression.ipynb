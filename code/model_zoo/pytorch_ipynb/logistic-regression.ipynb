{
 "cells": [
  {
   "cell_type": "markdown",
   "metadata": {},
   "source": [
    "*Accompanying code examples of the book \"Introduction to Artificial Neural Networks and Deep Learning: A Practical Guide with Applications in Python\" by [Sebastian Raschka](https://sebastianraschka.com). All code examples are released under the [MIT license](https://github.com/rasbt/deep-learning-book/blob/master/LICENSE). If you find this content useful, please consider supporting the work by buying a [copy of the book](https://leanpub.com/ann-and-deeplearning).*\n",
    "  \n",
    "Other code examples and content are available on [GitHub](https://github.com/rasbt/deep-learning-book). The PDF and ebook versions of the book are available through [Leanpub](https://leanpub.com/ann-and-deeplearning)."
   ]
  },
  {
   "cell_type": "code",
   "execution_count": 1,
   "metadata": {},
   "outputs": [
    {
     "name": "stdout",
     "output_type": "stream",
     "text": [
      "Sebastian Raschka \n",
      "\n",
      "CPython 3.6.3\n",
      "IPython 6.2.1\n",
      "\n",
      "torch 0.3.0.post4\n"
     ]
    }
   ],
   "source": [
    "%load_ext watermark\n",
    "%watermark -a 'Sebastian Raschka' -v -p torch"
   ]
  },
  {
   "cell_type": "markdown",
   "metadata": {},
   "source": [
    "# Model Zoo -- Logistic Regression"
   ]
  },
  {
   "cell_type": "markdown",
   "metadata": {},
   "source": [
    "Implementation of *classic* logistic regression for binary class labels."
   ]
  },
  {
   "cell_type": "markdown",
   "metadata": {},
   "source": [
    "## Preparing a toy dataset"
   ]
  },
  {
   "cell_type": "code",
   "execution_count": 2,
   "metadata": {},
   "outputs": [
    {
     "data": {
      "image/png": "[encoded data removed]",
      "text/plain": [
       "<matplotlib.figure.Figure at 0x1158c5390>"
      ]
     },
     "metadata": {},
     "output_type": "display_data"
    }
   ],
   "source": [
    "%matplotlib inline\n",
    "import matplotlib.pyplot as plt\n",
    "import numpy as np\n",
    "from io import BytesIO\n",
    "\n",
    "##########################\n",
    "### DATASET\n",
    "##########################\n",
    "\n",
    "ds = np.lib.DataSource()\n",
    "fp = ds.open('https://archive.ics.uci.edu/ml/machine-learning-databases/iris/iris.data')\n",
    "\n",
    "x = np.genfromtxt(BytesIO(fp.read().encode()), delimiter=',', usecols=range(2), max_rows=100)\n",
    "y = np.zeros(100)\n",
    "y[50:] = 1\n",
    "\n",
    "np.random.seed(1)\n",
    "idx = np.arange(y.shape[0])\n",
    "np.random.shuffle(idx)\n",
    "X_test, y_test = x[idx[:25]], y[idx[:25]]\n",
    "X_train, y_train = x[idx[25:]], y[idx[25:]]\n",
    "mu, std = np.mean(X_train, axis=0), np.std(X_train, axis=0)\n",
    "X_train, X_test = (X_train - mu) / std, (X_test - mu) / std\n",
    "\n",
    "fig, ax = plt.subplots(1, 2, figsize=(7, 2.5))\n",
    "ax[0].scatter(X_train[y_train == 1, 0], X_train[y_train == 1, 1])\n",
    "ax[0].scatter(X_train[y_train == 0, 0], X_train[y_train == 0, 1])\n",
    "ax[1].scatter(X_test[y_test == 1, 0], X_test[y_test == 1, 1])\n",
    "ax[1].scatter(X_test[y_test == 0, 0], X_test[y_test == 0, 1])\n",
    "plt.show()"
   ]
  },
  {
   "cell_type": "markdown",
   "metadata": {},
   "source": [
    "## Low-level implementation with manual gradients"
   ]
  },
  {
   "cell_type": "code",
   "execution_count": 3,
   "metadata": {},
   "outputs": [],
   "source": [
    "import torch\n",
    "import torch.nn.functional as F\n",
    "\n",
    "\n",
    "def custom_where(cond, x_1, x_2):\n",
    "    return (cond * x_1) + ((1-cond) * x_2)\n",
    "\n",
    "\n",
    "class LogisticRegression1():\n",
    "    def __init__(self, num_features):\n",
    "        self.num_features = num_features\n",
    "        self.weights = torch.zeros(num_features, 1)\n",
    "        self.bias = torch.zeros(1)\n",
    "\n",
    "    def forward(self, x):\n",
    "        linear = torch.add(torch.mm(x, self.weights), self.bias)\n",
    "        probas = self._sigmoid(linear)\n",
    "        return probas\n",
    "        \n",
    "    def backward(self, probas, y):  \n",
    "        errors = y - probas.view(-1)\n",
    "        return errors\n",
    "            \n",
    "    def predict_labels(self, x):\n",
    "        probas = self.forward(x)\n",
    "        labels = custom_where(probas >= .5, 1, 0)\n",
    "        return labels    \n",
    "            \n",
    "    def evaluate(self, x, y):\n",
    "        labels = self.predict_labels(x).float()\n",
    "        accuracy = torch.sum(labels.view(-1) == y) / y.size()[0]\n",
    "        return accuracy\n",
    "    \n",
    "    def _sigmoid(self, z):\n",
    "        return 1. / (1. + torch.exp(-z))\n",
    "    \n",
    "    def _logit_cost(self, y, proba):\n",
    "        tmp1 = torch.mm(-y.view(1, -1), torch.log(proba))\n",
    "        tmp2 = torch.mm((1 - y).view(1, -1), torch.log(1 - proba))\n",
    "        return tmp1 - tmp2\n",
    "    \n",
    "    def train(self, x, y, num_epochs, learning_rate=0.01):\n",
    "        for e in range(num_epochs):\n",
    "            \n",
    "            #### Compute outputs ####\n",
    "            probas = self.forward(x)\n",
    "            \n",
    "            #### Compute gradients ####\n",
    "            errors = self.backward(probas, y)\n",
    "            neg_grad = torch.mm(x.transpose(0, 1), errors.view(-1, 1))\n",
    "            \n",
    "            #### Update weights ####\n",
    "            self.weights += learning_rate * neg_grad\n",
    "            self.bias += learning_rate * torch.sum(errors)\n",
    "            \n",
    "            #### Logging ####\n",
    "            print('Epoch: %03d' % (e+1), end=\"\")\n",
    "            print(' | Train ACC: %.3f' % self.evaluate(x, y), end=\"\")\n",
    "            print(' | Cost: %.3f' % self._logit_cost(y, self.forward(x)))"
   ]
  },
  {
   "cell_type": "code",
   "execution_count": 4,
   "metadata": {},
   "outputs": [
    {
     "name": "stdout",
     "output_type": "stream",
     "text": [
      "Epoch: 001 | Train ACC: 0.987 | Cost: 5.581\n",
      "Epoch: 002 | Train ACC: 0.987 | Cost: 4.882\n",
      "Epoch: 003 | Train ACC: 1.000 | Cost: 4.381\n",
      "Epoch: 004 | Train ACC: 1.000 | Cost: 3.998\n",
      "Epoch: 005 | Train ACC: 1.000 | Cost: 3.693\n",
      "Epoch: 006 | Train ACC: 1.000 | Cost: 3.443\n",
      "Epoch: 007 | Train ACC: 1.000 | Cost: 3.232\n",
      "Epoch: 008 | Train ACC: 1.000 | Cost: 3.052\n",
      "Epoch: 009 | Train ACC: 1.000 | Cost: 2.896\n",
      "Epoch: 010 | Train ACC: 1.000 | Cost: 2.758\n",
      "\n",
      "Model parameters:\n",
      "  Weights: \n",
      " 4.2267\n",
      "-2.9613\n",
      "[torch.FloatTensor of size 2x1]\n",
      "\n",
      "  Bias: \n",
      "1.00000e-02 *\n",
      "  9.9419\n",
      "[torch.FloatTensor of size 1]\n",
      "\n"
     ]
    }
   ],
   "source": [
    "logr = LogisticRegression1(num_features=2)\n",
    "X_train_tensor, y_train_tensor = torch.Tensor(X_train), torch.Tensor(y_train)\n",
    "logr.train(X_train_tensor, y_train_tensor, num_epochs=10, learning_rate=0.1)\n",
    "\n",
    "print('\\nModel parameters:')\n",
    "print('  Weights: %s' % logr.weights)\n",
    "print('  Bias: %s' % logr.bias)"
   ]
  },
  {
   "cell_type": "code",
   "execution_count": 5,
   "metadata": {},
   "outputs": [
    {
     "name": "stdout",
     "output_type": "stream",
     "text": [
      "Test set accuracy: 100.000%\n"
     ]
    }
   ],
   "source": [
    "X_test_tensor, y_test_tensor = torch.Tensor(X_test), torch.Tensor(y_test)\n",
    "\n",
    "test_acc = logr.evaluate(X_test_tensor, y_test_tensor)\n",
    "print('Test set accuracy: %.3f%%' % (test_acc*100))"
   ]
  },
  {
   "cell_type": "markdown",
   "metadata": {},
   "source": [
    "## Low-level implementation using autograd"
   ]
  },
  {
   "cell_type": "code",
   "execution_count": 6,
   "metadata": {},
   "outputs": [],
   "source": [
    "dtype = torch.FloatTensor\n",
    "# dtype = torch.cuda.FloatTensor # Uncomment this to run on GPU"
   ]
  },
  {
   "cell_type": "code",
   "execution_count": 7,
   "metadata": {},
   "outputs": [],
   "source": [
    "import torch\n",
    "import torch.nn.functional as F\n",
    "from torch.autograd import Variable\n",
    "\n",
    "\n",
    "def custom_where(cond, x_1, x_2):\n",
    "    return (cond * x_1) + ((1-cond) * x_2)\n",
    "\n",
    "\n",
    "class LogisticRegression2():\n",
    "    def __init__(self, num_features):\n",
    "        self.num_features = num_features\n",
    "        self.weights = Variable(torch.zeros(num_features, 1).type(dtype),\n",
    "                                requires_grad=True)\n",
    "        self.bias = Variable(torch.zeros(1).type(dtype),\n",
    "                             requires_grad=True)\n",
    "\n",
    "    def forward(self, x):\n",
    "        linear = torch.add(torch.mm(x, self.weights), self.bias)\n",
    "        probas = self._sigmoid(linear)\n",
    "        return probas\n",
    "                    \n",
    "    def predict_labels(self, x):\n",
    "        probas = self.forward(x)\n",
    "        labels = custom_where((probas >= .5).float(), 1, 0)\n",
    "        return labels    \n",
    "            \n",
    "    def evaluate(self, x, y):\n",
    "        labels = self.predict_labels(x)\n",
    "        accuracy = (torch.sum(labels.view(-1) == y.view(-1))).float() / y.size()[0]\n",
    "        return accuracy\n",
    "    \n",
    "    def _sigmoid(self, z):\n",
    "        return 1. / (1. + torch.exp(-z))\n",
    "    \n",
    "    def _logit_cost(self, y, proba):\n",
    "        tmp1 = torch.mm(-y.view(1, -1), torch.log(proba))\n",
    "        tmp2 = torch.mm((1 - y).view(1, -1), torch.log(1 - proba))\n",
    "        return tmp1 - tmp2\n",
    "    \n",
    "    def train(self, x, y, num_epochs, learning_rate=0.01):\n",
    "        \n",
    "        x_var = Variable(x.type(dtype), requires_grad=False)\n",
    "        y_var = Variable(y.type(dtype), requires_grad=False)\n",
    "        \n",
    "        for e in range(num_epochs):\n",
    "            \n",
    "            #### Compute outputs ####\n",
    "            proba = self.forward(x_var)\n",
    "            cost = self._logit_cost(y_var, proba)\n",
    "            \n",
    "            #### Compute gradients ####\n",
    "            cost.backward()\n",
    "            \n",
    "            #### Update weights ####\n",
    "            self.weights.data -= learning_rate * self.weights.grad.data\n",
    "            self.bias.data -= learning_rate * self.bias.grad.data\n",
    "      \n",
    "            #### Reset gradients to zero for next iteration ####\n",
    "            self.weights.grad.data.zero_()\n",
    "            self.bias.grad.data.zero_()\n",
    "    \n",
    "            #### Logging ####\n",
    "            print('Epoch: %03d' % (e+1), end=\"\")\n",
    "            print(' | Train ACC: %.3f' % self.evaluate(x_var, y_var), end=\"\")\n",
    "            print(' | Cost: %.3f' % self._logit_cost(y_var, self.forward(x_var)))\n",
    "            \n"
   ]
  },
  {
   "cell_type": "code",
   "execution_count": 8,
   "metadata": {},
   "outputs": [
    {
     "name": "stdout",
     "output_type": "stream",
     "text": [
      "Epoch: 001 | Train ACC: 0.987 | Cost: 5.581\n",
      "Epoch: 002 | Train ACC: 0.987 | Cost: 4.882\n",
      "Epoch: 003 | Train ACC: 1.000 | Cost: 4.381\n",
      "Epoch: 004 | Train ACC: 1.000 | Cost: 3.998\n",
      "Epoch: 005 | Train ACC: 1.000 | Cost: 3.693\n",
      "Epoch: 006 | Train ACC: 1.000 | Cost: 3.443\n",
      "Epoch: 007 | Train ACC: 1.000 | Cost: 3.232\n",
      "Epoch: 008 | Train ACC: 1.000 | Cost: 3.052\n",
      "Epoch: 009 | Train ACC: 1.000 | Cost: 2.896\n",
      "Epoch: 010 | Train ACC: 1.000 | Cost: 2.758\n",
      "\n",
      "Model parameters:\n",
      "  Weights: Variable containing:\n",
      " 4.2267\n",
      "-2.9613\n",
      "[torch.FloatTensor of size 2x1]\n",
      "\n",
      "  Bias: Variable containing:\n",
      "1.00000e-02 *\n",
      "  9.9419\n",
      "[torch.FloatTensor of size 1]\n",
      "\n"
     ]
    }
   ],
   "source": [
    "logr = LogisticRegression2(num_features=2)\n",
    "X_train_tensor, y_train_tensor = torch.Tensor(X_train), torch.Tensor(y_train)\n",
    "logr.train(X_train_tensor, y_train_tensor, num_epochs=10, learning_rate=0.1)\n",
    "\n",
    "print('\\nModel parameters:')\n",
    "print('  Weights: %s' % logr.weights)\n",
    "print('  Bias: %s' % logr.bias)"
   ]
  },
  {
   "cell_type": "code",
   "execution_count": 9,
   "metadata": {},
   "outputs": [
    {
     "name": "stdout",
     "output_type": "stream",
     "text": [
      "Test set accuracy: 100.00%\n"
     ]
    }
   ],
   "source": [
    "X_test_var = Variable(torch.Tensor(X_test).type(dtype), requires_grad=False)\n",
    "y_test_var = Variable(torch.Tensor(y_test).type(dtype), requires_grad=False)\n",
    "\n",
    "test_acc = logr.evaluate(X_test_var, y_test_var)\n",
    "print('Test set accuracy: %.2f%%' % (test_acc*100))"
   ]
  },
  {
   "cell_type": "markdown",
   "metadata": {},
   "source": [
    "## High-level implementation using the nn.Module API"
   ]
  },
  {
   "cell_type": "code",
   "execution_count": 10,
   "metadata": {},
   "outputs": [],
   "source": [
    "class LogisticRegression3(torch.nn.Module):\n",
    "\n",
    "    def __init__(self, num_features):\n",
    "        super(LogisticRegression3, self).__init__()\n",
    "        self.linear = torch.nn.Linear(num_features, 1)\n",
    "        # initialize weights to zeros here,\n",
    "        # since we used zero weights in the\n",
    "        # manual approach\n",
    "        self.linear.weight.data.zero_()\n",
    "        self.linear.bias.data.zero_()\n",
    "        \n",
    "    def forward(self, x):\n",
    "        logits = self.linear(x)\n",
    "        probas = F.sigmoid(logits)\n",
    "        return probas\n",
    "\n",
    "model = LogisticRegression3(num_features=2)"
   ]
  },
  {
   "cell_type": "code",
   "execution_count": 11,
   "metadata": {},
   "outputs": [],
   "source": [
    "##### Define cost function and set up optimizer #####\n",
    "cost_fn = torch.nn.BCELoss(size_average=False)\n",
    "# average_size=False to match results in\n",
    "# manual approach, where we did not normalize\n",
    "# the cost by the batch size\n",
    "optimizer = torch.optim.SGD(model.parameters(), lr=0.1)"
   ]
  },
  {
   "cell_type": "code",
   "execution_count": 12,
   "metadata": {},
   "outputs": [
    {
     "name": "stdout",
     "output_type": "stream",
     "text": [
      "Epoch: 001 | Train ACC: 0.987 | Cost: 5.581\n",
      "Epoch: 002 | Train ACC: 0.987 | Cost: 4.882\n",
      "Epoch: 003 | Train ACC: 1.000 | Cost: 4.381\n",
      "Epoch: 004 | Train ACC: 1.000 | Cost: 3.998\n",
      "Epoch: 005 | Train ACC: 1.000 | Cost: 3.693\n",
      "Epoch: 006 | Train ACC: 1.000 | Cost: 3.443\n",
      "Epoch: 007 | Train ACC: 1.000 | Cost: 3.232\n",
      "Epoch: 008 | Train ACC: 1.000 | Cost: 3.052\n",
      "Epoch: 009 | Train ACC: 1.000 | Cost: 2.896\n",
      "Epoch: 010 | Train ACC: 1.000 | Cost: 2.758\n",
      "\n",
      "Model parameters:\n",
      "  Weights: \n",
      " 4.2267 -2.9613\n",
      "[torch.FloatTensor of size 1x2]\n",
      "\n",
      "  Bias: \n",
      "1.00000e-02 *\n",
      "  9.9419\n",
      "[torch.FloatTensor of size 1]\n",
      "\n"
     ]
    }
   ],
   "source": [
    "def comp_accuracy(label_var, pred_probas):\n",
    "    pred_labels = custom_where((pred_probas > 0.5).float(), 1, 0).view(-1)\n",
    "    acc = torch.sum(pred_labels == label_var.view(-1)).float() / label_var.size(0)\n",
    "    return acc\n",
    "\n",
    "\n",
    "num_epochs = 10\n",
    "\n",
    "X_train_var = Variable(torch.Tensor(X_train), requires_grad=False)\n",
    "y_train_var = Variable(torch.Tensor(y_train), requires_grad=False).view(-1, 1)\n",
    "\n",
    "\n",
    "for epoch in range(num_epochs):\n",
    "    \n",
    "    #### Compute outputs ####\n",
    "    out = model(X_train_var)\n",
    "    \n",
    "    #### Compute gradients ####\n",
    "    cost = cost_fn(out, y_train_var)\n",
    "    optimizer.zero_grad()\n",
    "    cost.backward()\n",
    "    \n",
    "    #### Update weights ####  \n",
    "    optimizer.step()\n",
    "    \n",
    "    #### Logging ####      \n",
    "    pred_probas = model(X_train_var)\n",
    "    acc = comp_accuracy(y_train_var, pred_probas)\n",
    "    print('Epoch: %03d' % (epoch + 1), end=\"\")\n",
    "    print(' | Train ACC: %.3f' % acc, end=\"\")\n",
    "    print(' | Cost: %.3f' % cost_fn(pred_probas, y_train_var))\n",
    "\n",
    "\n",
    "    \n",
    "print('\\nModel parameters:')\n",
    "print('  Weights: %s' % model.linear.weight.data)\n",
    "print('  Bias: %s' % model.linear.bias.data)"
   ]
  },
  {
   "cell_type": "code",
   "execution_count": 13,
   "metadata": {},
   "outputs": [
    {
     "name": "stdout",
     "output_type": "stream",
     "text": [
      "Test set accuracy: 100.00%\n"
     ]
    }
   ],
   "source": [
    "X_test_var = Variable(torch.Tensor(X_test).type(dtype), requires_grad=False)\n",
    "y_test_var = Variable(torch.Tensor(y_test).type(dtype), requires_grad=False)\n",
    "\n",
    "pred_probas = model(X_test_var)\n",
    "test_acc = comp_accuracy(y_test_var, pred_probas)\n",
    "\n",
    "print('Test set accuracy: %.2f%%' % (test_acc*100))"
   ]
  }
 ],
 "metadata": {
  "kernelspec": {
   "display_name": "Python 3",
   "language": "python",
   "name": "python3"
  },
  "language_info": {
   "codemirror_mode": {
    "name": "ipython",
    "version": 3
   },
   "file_extension": ".py",
   "mimetype": "text/x-python",
   "name": "python",
   "nbconvert_exporter": "python",
   "pygments_lexer": "ipython3",
   "version": "3.6.3"
  }
 },
 "nbformat": 4,
 "nbformat_minor": 2
}
